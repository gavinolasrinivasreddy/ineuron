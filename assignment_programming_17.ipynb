{
  "nbformat": 4,
  "nbformat_minor": 0,
  "metadata": {
    "colab": {
      "provenance": []
    },
    "kernelspec": {
      "name": "python3",
      "display_name": "Python 3"
    },
    "language_info": {
      "name": "python"
    }
  },
  "cells": [
    {
      "cell_type": "markdown",
      "source": [
        "Question1. Create a function that takes three arguments a, b, c and returns the sum of the\n",
        "numbers that are evenly divided by c from the range a, b inclusive.\n",
        "evenly_divisible(1, 10, 2) ➞ 30\n",
        "# 2 + 4 + 6 + 8 + 10 = 30\n",
        "evenly_divisible(1, 10, 3) ➞ 18\n",
        "# 3 + 6 + 9 = 18"
      ],
      "metadata": {
        "id": "6I9bE77W-3mR"
      }
    },
    {
      "cell_type": "code",
      "execution_count": 21,
      "metadata": {
        "id": "jCTitYxk-r4X"
      },
      "outputs": [],
      "source": [
        "def test(a,b,c):\n",
        "  list = []\n",
        "  for i in range(a,b+1):\n",
        "    if i %c ==0:\n",
        "      list.append(i)\n",
        "  print(list)\n",
        "  print(sum(list))\n"
      ]
    },
    {
      "cell_type": "code",
      "source": [
        "test (1,10,2)"
      ],
      "metadata": {
        "colab": {
          "base_uri": "https://localhost:8080/"
        },
        "id": "Y03GT_PnAF6e",
        "outputId": "98a529e3-d5ba-45e6-e8ba-daaf60946b64"
      },
      "execution_count": 22,
      "outputs": [
        {
          "output_type": "stream",
          "name": "stdout",
          "text": [
            "[2, 4, 6, 8, 10]\n",
            "30\n"
          ]
        }
      ]
    },
    {
      "cell_type": "code",
      "source": [
        "test (1,10,3)"
      ],
      "metadata": {
        "colab": {
          "base_uri": "https://localhost:8080/"
        },
        "id": "ehbC_XrTAQ03",
        "outputId": "d8f4d5e5-03bc-42a9-9ca3-a68c883e493e"
      },
      "execution_count": 23,
      "outputs": [
        {
          "output_type": "stream",
          "name": "stdout",
          "text": [
            "[3, 6, 9]\n",
            "18\n"
          ]
        }
      ]
    },
    {
      "cell_type": "code",
      "source": [
        "#Create a function that replaces all the vowels in a string with a specified character.\n",
        "def vowel_replace(test_str, d):\n",
        "  vowels = \"aeiouAEIOU\"\n",
        "  for i in vowels:\n",
        "    test_str = test_str.replace(i,d)\n",
        "  return test_str\n"
      ],
      "metadata": {
        "id": "v4aSJ5xZCKCn"
      },
      "execution_count": 24,
      "outputs": []
    },
    {
      "cell_type": "code",
      "source": [
        "vowel_replace(\"the addvark\", '#')"
      ],
      "metadata": {
        "colab": {
          "base_uri": "https://localhost:8080/",
          "height": 35
        },
        "id": "t7TZ1HiaFKrA",
        "outputId": "d242e1d0-2565-432a-b5d0-511277c449df"
      },
      "execution_count": 25,
      "outputs": [
        {
          "output_type": "execute_result",
          "data": {
            "text/plain": [
              "'th# #ddv#rk'"
            ],
            "application/vnd.google.colaboratory.intrinsic+json": {
              "type": "string"
            }
          },
          "metadata": {},
          "execution_count": 25
        }
      ]
    },
    {
      "cell_type": "code",
      "source": [
        "vowel_replace(\"minnie mouse\", '?')"
      ],
      "metadata": {
        "colab": {
          "base_uri": "https://localhost:8080/",
          "height": 35
        },
        "id": "rukI31rVGtUK",
        "outputId": "eaba8788-ae1e-44a1-9381-3880156b6a59"
      },
      "execution_count": 26,
      "outputs": [
        {
          "output_type": "execute_result",
          "data": {
            "text/plain": [
              "'m?nn?? m??s?'"
            ],
            "application/vnd.google.colaboratory.intrinsic+json": {
              "type": "string"
            }
          },
          "metadata": {},
          "execution_count": 26
        }
      ]
    },
    {
      "cell_type": "code",
      "source": [
        "vowel_replace(\"shakespeare\", '*')"
      ],
      "metadata": {
        "colab": {
          "base_uri": "https://localhost:8080/",
          "height": 35
        },
        "id": "q81RbKEyG7Mo",
        "outputId": "aa67b75b-c5e6-4a8b-afd3-10e479175a3f"
      },
      "execution_count": 27,
      "outputs": [
        {
          "output_type": "execute_result",
          "data": {
            "text/plain": [
              "'sh*k*sp**r*'"
            ],
            "application/vnd.google.colaboratory.intrinsic+json": {
              "type": "string"
            }
          },
          "metadata": {},
          "execution_count": 27
        }
      ]
    },
    {
      "cell_type": "markdown",
      "source": [
        "Write a function that calculates the factorial of a number recursively."
      ],
      "metadata": {
        "id": "BZ0nZw6QHXRU"
      }
    },
    {
      "cell_type": "code",
      "source": [
        "def factorial (n):\n",
        "  if n==0:\n",
        "    print(1)\n",
        "  else:\n",
        "   factorial =1\n",
        "   for i in range(1,n+1):\n",
        "    factorial= factorial*i\n",
        "   print(factorial)\n"
      ],
      "metadata": {
        "id": "ySgtdv4ZHF7Y"
      },
      "execution_count": 35,
      "outputs": []
    },
    {
      "cell_type": "code",
      "source": [
        "factorial(5)"
      ],
      "metadata": {
        "colab": {
          "base_uri": "https://localhost:8080/"
        },
        "id": "2gGkUyDmHz_8",
        "outputId": "ec0cbb54-e599-490c-d345-b87e64aead3f"
      },
      "execution_count": 37,
      "outputs": [
        {
          "output_type": "stream",
          "name": "stdout",
          "text": [
            "120\n"
          ]
        }
      ]
    },
    {
      "cell_type": "code",
      "source": [
        "factorial(3)"
      ],
      "metadata": {
        "colab": {
          "base_uri": "https://localhost:8080/"
        },
        "id": "6sRrpo0xIIaj",
        "outputId": "255d6d3f-0a22-4708-d1a4-718e4efab0c0"
      },
      "execution_count": 38,
      "outputs": [
        {
          "output_type": "stream",
          "name": "stdout",
          "text": [
            "6\n"
          ]
        }
      ]
    },
    {
      "cell_type": "code",
      "source": [
        "factorial(1)"
      ],
      "metadata": {
        "colab": {
          "base_uri": "https://localhost:8080/"
        },
        "id": "wbBASeZTJGf8",
        "outputId": "d8704e70-8615-447b-c68a-36da1ec03d63"
      },
      "execution_count": 39,
      "outputs": [
        {
          "output_type": "stream",
          "name": "stdout",
          "text": [
            "1\n"
          ]
        }
      ]
    },
    {
      "cell_type": "code",
      "source": [
        "factorial(0)"
      ],
      "metadata": {
        "colab": {
          "base_uri": "https://localhost:8080/"
        },
        "id": "kEGo3ppDJJkL",
        "outputId": "5a28f20c-cdcd-4fdc-9e22-a1c5de34b910"
      },
      "execution_count": 40,
      "outputs": [
        {
          "output_type": "stream",
          "name": "stdout",
          "text": [
            "1\n"
          ]
        }
      ]
    },
    {
      "cell_type": "code",
      "source": [
        "# Create a function that computes the hamming distance between two strings.\n",
        "def hammingDist(str1, str2):\n",
        "    i = 0\n",
        "    count = 0\n",
        " \n",
        "    while(i < len(str1)):\n",
        "        if(str1[i] != str2[i]):\n",
        "            count += 1\n",
        "        i += 1\n",
        "    return count"
      ],
      "metadata": {
        "id": "q6vC7SPwJM6O"
      },
      "execution_count": 43,
      "outputs": []
    },
    {
      "cell_type": "code",
      "source": [
        "hammingDist(\"abcde\", \"bcdef\")"
      ],
      "metadata": {
        "colab": {
          "base_uri": "https://localhost:8080/"
        },
        "id": "QWcnTW_8L-6P",
        "outputId": "675d2b26-ca13-46fa-92ff-03cf7e6a5628"
      },
      "execution_count": 44,
      "outputs": [
        {
          "output_type": "execute_result",
          "data": {
            "text/plain": [
              "5"
            ]
          },
          "metadata": {},
          "execution_count": 44
        }
      ]
    },
    {
      "cell_type": "code",
      "source": [],
      "metadata": {
        "id": "OBCUK5MfMJaB"
      },
      "execution_count": null,
      "outputs": []
    }
  ]
}