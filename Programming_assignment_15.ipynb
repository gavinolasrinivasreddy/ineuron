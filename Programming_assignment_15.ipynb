{
  "nbformat": 4,
  "nbformat_minor": 0,
  "metadata": {
    "colab": {
      "provenance": []
    },
    "kernelspec": {
      "name": "python3",
      "display_name": "Python 3"
    },
    "language_info": {
      "name": "python"
    }
  },
  "cells": [
    {
      "cell_type": "markdown",
      "source": [
        "Please write a program using generator to print the numbers which can be divisible by 5 and\n",
        "7 between 0 and n in comma separated form while n is input by console."
      ],
      "metadata": {
        "id": "K6hdOMHQZUV2"
      }
    },
    {
      "cell_type": "code",
      "source": [
        "def num(n):\n",
        "  for i in range(n+1):\n",
        "    if i%5==0 and i%7==0:\n",
        "     print(i, end = \",\")"
      ],
      "metadata": {
        "id": "H-4eG9REZXiL"
      },
      "execution_count": 10,
      "outputs": []
    },
    {
      "cell_type": "code",
      "source": [
        "num(100)"
      ],
      "metadata": {
        "colab": {
          "base_uri": "https://localhost:8080/"
        },
        "id": "VQfqvJ1KZXeA",
        "outputId": "7b5397a5-4b9b-4032-a969-7de00d761f04"
      },
      "execution_count": 11,
      "outputs": [
        {
          "output_type": "stream",
          "name": "stdout",
          "text": [
            "0,35,70,"
          ]
        }
      ]
    },
    {
      "cell_type": "markdown",
      "source": [
        "Please write a program using generator to print the even numbers between 0 and n in comma\n",
        "separated form while n is input by console."
      ],
      "metadata": {
        "id": "_jLSketgajD9"
      }
    },
    {
      "cell_type": "code",
      "source": [
        "def num1(n):\n",
        "  for i in range(n+1):\n",
        "    if i%2==0:\n",
        "     print(i, end = \",\")"
      ],
      "metadata": {
        "id": "EA4n1WJaZXcP"
      },
      "execution_count": 13,
      "outputs": []
    },
    {
      "cell_type": "code",
      "source": [
        "num1(10)"
      ],
      "metadata": {
        "colab": {
          "base_uri": "https://localhost:8080/"
        },
        "id": "9O3mFnXoZXPR",
        "outputId": "ca4b19e4-9fd5-4dff-b649-a0bd20e0e7c3"
      },
      "execution_count": 14,
      "outputs": [
        {
          "output_type": "stream",
          "name": "stdout",
          "text": [
            "0,2,4,6,8,10,"
          ]
        }
      ]
    },
    {
      "cell_type": "code",
      "source": [],
      "metadata": {
        "id": "5myPK8rWmSx9"
      },
      "execution_count": null,
      "outputs": []
    },
    {
      "cell_type": "markdown",
      "source": [
        "Assuming that we have some email addresses in the &quot;username@companyname.com&quot; format,\n",
        "please write program to print the user name of a given email address. Both user names and\n",
        "company names are composed of letters only."
      ],
      "metadata": {
        "id": "jeuj7J85ZKxO"
      }
    },
    {
      "cell_type": "code",
      "source": [
        "def user(text_str):\n",
        "      res = text_str.split('@')\n",
        "      print(res[0])"
      ],
      "metadata": {
        "id": "hhDMzfi9mUgs"
      },
      "execution_count": 18,
      "outputs": []
    },
    {
      "cell_type": "code",
      "source": [
        "user(\"username@companyname.com\")"
      ],
      "metadata": {
        "colab": {
          "base_uri": "https://localhost:8080/"
        },
        "id": "nst2wE8k5E9z",
        "outputId": "ace81b14-6a6c-46d4-bbc2-c970591838e6"
      },
      "execution_count": 19,
      "outputs": [
        {
          "output_type": "stream",
          "name": "stdout",
          "text": [
            "username\n"
          ]
        }
      ]
    },
    {
      "cell_type": "code",
      "source": [
        "user(\"gavinollasrinivasreddy@gmail.com\")"
      ],
      "metadata": {
        "colab": {
          "base_uri": "https://localhost:8080/"
        },
        "id": "Dx3fFunC5M3I",
        "outputId": "66b335ec-4a42-468b-e5f8-f8033d3cd895"
      },
      "execution_count": 21,
      "outputs": [
        {
          "output_type": "stream",
          "name": "stdout",
          "text": [
            "gavinollasrinivasreddy\n"
          ]
        }
      ]
    },
    {
      "cell_type": "code",
      "source": [],
      "metadata": {
        "id": "5dKKbu8f5bmI"
      },
      "execution_count": null,
      "outputs": []
    }
  ]
}