{
  "nbformat": 4,
  "nbformat_minor": 0,
  "metadata": {
    "colab": {
      "name": "Untitled19.ipynb",
      "provenance": []
    },
    "kernelspec": {
      "name": "python3",
      "display_name": "Python 3"
    },
    "language_info": {
      "name": "python"
    }
  },
  "cells": [
    {
      "cell_type": "code",
      "execution_count": null,
      "metadata": {
        "colab": {
          "base_uri": "https://localhost:8080/"
        },
        "id": "US2ZYHbft9j4",
        "outputId": "82266bc9-8f03-4fb7-fe8e-188a90124a63"
      },
      "outputs": [
        {
          "output_type": "stream",
          "name": "stdout",
          "text": [
            "rajesh\n",
            "9234567891\n",
            "giri@gmail\n",
            "rajesh is learning FSDS\n"
          ]
        }
      ],
      "source": [
        "class Ineuron:\n",
        "\n",
        "    def __init__(self,name, mailid, mobileno):\n",
        "        self.name=name\n",
        "        self.mailid=mailid\n",
        "        self.moblieno=mobileno\n",
        "    def data_science(self):\n",
        "        print(f\"{self.name} is learning FSDS\")\n",
        "kumar1 = Ineuron(\"rajesh\",\"raj@gmail\", 9123456789)\n",
        "kumar2= Ineuron(\"harish\",\"har@gmail\", 9234567891)\n",
        "kumar3=Ineuron(\"girish\",\"giri@gmail\",\"9345678912\")\n",
        "print(kumar1.name)\n",
        "print(kumar2.moblieno)\n",
        "print(kumar3.mailid)\n",
        "kumar1.data_science()"
      ]
    },
    {
      "cell_type": "code",
      "source": [
        "class Ineuron:\n",
        "\n",
        "  def python(self):\n",
        "      print(\"first students will learn python in FSDS course\")\n",
        "  def sql(self):\n",
        "      print(\"2 nd  students will learn sql in FSDS course \")\n",
        "class data_science(Ineuron):\n",
        "    def Ml(self):\n",
        "        print(\"ml also part of FSDC\")\n",
        "AI=Ineuron()\n",
        "AI.python()\n",
        "AI.sql()\n",
        "AI_advance=data_science()\n",
        "AI_advance.Ml()\n"
      ],
      "metadata": {
        "colab": {
          "base_uri": "https://localhost:8080/"
        },
        "id": "CVmQAWDuuWFm",
        "outputId": "9047003d-4e66-44d2-912b-439c099aa32a"
      },
      "execution_count": null,
      "outputs": [
        {
          "output_type": "stream",
          "name": "stdout",
          "text": [
            "first students will learn python in FSDS course\n",
            "2 nd  students will learn sql in FSDS course \n",
            "ml also part of FSDC\n"
          ]
        }
      ]
    },
    {
      "cell_type": "code",
      "source": [
        ""
      ],
      "metadata": {
        "id": "QeKRl51u2aco"
      },
      "execution_count": null,
      "outputs": []
    }
  ]
}