{
  "nbformat": 4,
  "nbformat_minor": 0,
  "metadata": {
    "colab": {
      "name": "Programming Assignment_1.ipynb",
      "provenance": []
    },
    "kernelspec": {
      "name": "python3",
      "display_name": "Python 3"
    },
    "language_info": {
      "name": "python"
    }
  },
  "cells": [
    {
      "cell_type": "code",
      "execution_count": null,
      "metadata": {
        "id": "xHgGTtUww3EV"
      },
      "outputs": [],
      "source": [
        ""
      ]
    },
    {
      "cell_type": "markdown",
      "source": [
        "1. Write a Python program to print \"Hello Python\"?"
      ],
      "metadata": {
        "id": "Y0KmhwVyxB8f"
      }
    },
    {
      "cell_type": "code",
      "source": [
        "Name = \"Hello Python\"\n",
        "print(Name)"
      ],
      "metadata": {
        "colab": {
          "base_uri": "https://localhost:8080/"
        },
        "id": "RxEABIAYxRLi",
        "outputId": "70aa74c5-01b4-4a79-8ead-dcc116be3b25"
      },
      "execution_count": 1,
      "outputs": [
        {
          "output_type": "stream",
          "name": "stdout",
          "text": [
            "Hello Python\n"
          ]
        }
      ]
    },
    {
      "cell_type": "markdown",
      "source": [
        "2. Write a Python program to do arithmetical operations addition and division.?"
      ],
      "metadata": {
        "id": "dqRN_A-6xmyf"
      }
    },
    {
      "cell_type": "code",
      "source": [
        "a =10\n",
        "b =5\n",
        "c = a+b\n",
        "d = a/b\n",
        "print(c)\n",
        "print(d)"
      ],
      "metadata": {
        "colab": {
          "base_uri": "https://localhost:8080/"
        },
        "id": "2OWA2QySxaie",
        "outputId": "b9ab0a1a-16a0-4532-b3f3-0c8a8f5a4a10"
      },
      "execution_count": 2,
      "outputs": [
        {
          "output_type": "stream",
          "name": "stdout",
          "text": [
            "15\n",
            "2.0\n"
          ]
        }
      ]
    },
    {
      "cell_type": "markdown",
      "source": [
        "3. Write a Python program to find the area of a triangle?"
      ],
      "metadata": {
        "id": "Tc14H6QLyYLe"
      }
    },
    {
      "cell_type": "code",
      "source": [
        "base = 5\n",
        "height = 8\n",
        "area = (1/2)*base*height\n",
        "print(area)"
      ],
      "metadata": {
        "colab": {
          "base_uri": "https://localhost:8080/"
        },
        "id": "wUgQ0wC6yMAp",
        "outputId": "f2ad8913-0a34-42fa-b71c-50faecf97f90"
      },
      "execution_count": 3,
      "outputs": [
        {
          "output_type": "stream",
          "name": "stdout",
          "text": [
            "20.0\n"
          ]
        }
      ]
    },
    {
      "cell_type": "code",
      "source": [
        "4. Write a Python program to swap two variables?"
      ],
      "metadata": {
        "colab": {
          "base_uri": "https://localhost:8080/"
        },
        "id": "GqRDq1fay3Bx",
        "outputId": "344ace41-eecf-4a3a-c460-2be2f09a0d60"
      },
      "execution_count": 4,
      "outputs": [
        {
          "output_type": "stream",
          "name": "stdout",
          "text": [
            "Object `variables` not found.\n"
          ]
        }
      ]
    },
    {
      "cell_type": "code",
      "source": [
        "x =\"name\"\n",
        "y = \"surname\"\n",
        "\n",
        "# to swap, another variable needed\n",
        "temp = x\n",
        "x = y\n",
        "y = temp\n",
        "print(\"the value of x after swaping\", x)\n",
        "print(\"the value of x after swaping\", y)"
      ],
      "metadata": {
        "colab": {
          "base_uri": "https://localhost:8080/"
        },
        "id": "Lhte6liQzoKb",
        "outputId": "de12a0b6-f435-4fa1-d909-45dc9e5e9e82"
      },
      "execution_count": 6,
      "outputs": [
        {
          "output_type": "stream",
          "name": "stdout",
          "text": [
            "the value of x after swaping surname\n",
            "the value of x after swaping name\n"
          ]
        }
      ]
    },
    {
      "cell_type": "code",
      "source": [
        "5. Write a Python program to generate a random number?"
      ],
      "metadata": {
        "colab": {
          "base_uri": "https://localhost:8080/"
        },
        "id": "YUOWY4RM0U2r",
        "outputId": "49f52f71-9da8-4fde-a1d1-0546a833c741"
      },
      "execution_count": 7,
      "outputs": [
        {
          "output_type": "stream",
          "name": "stdout",
          "text": [
            "Object `number` not found.\n"
          ]
        }
      ]
    },
    {
      "cell_type": "code",
      "source": [
        "import random\n",
        "a = random.randint(1, 50)\n",
        "a"
      ],
      "metadata": {
        "colab": {
          "base_uri": "https://localhost:8080/"
        },
        "id": "sPTfLPA60qiq",
        "outputId": "6af79cad-c80d-4238-88e2-4deb0e7337e9"
      },
      "execution_count": 11,
      "outputs": [
        {
          "output_type": "execute_result",
          "data": {
            "text/plain": [
              "50"
            ]
          },
          "metadata": {},
          "execution_count": 11
        }
      ]
    },
    {
      "cell_type": "code",
      "source": [
        ""
      ],
      "metadata": {
        "id": "wYMopdRg05VQ"
      },
      "execution_count": null,
      "outputs": []
    }
  ]
}