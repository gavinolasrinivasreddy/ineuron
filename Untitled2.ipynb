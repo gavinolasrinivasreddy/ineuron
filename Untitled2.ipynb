{
  "nbformat": 4,
  "nbformat_minor": 0,
  "metadata": {
    "colab": {
      "name": "Untitled2.ipynb",
      "provenance": []
    },
    "kernelspec": {
      "name": "python3",
      "display_name": "Python 3"
    },
    "language_info": {
      "name": "python"
    }
  },
  "cells": [
    {
      "cell_type": "code",
      "execution_count": null,
      "metadata": {
        "colab": {
          "base_uri": "https://localhost:8080/"
        },
        "id": "OuMLz_iwbcRc",
        "outputId": "f8136eb1-7e00-426d-ac9c-cd35fef41bae"
      },
      "outputs": [
        {
          "output_type": "stream",
          "name": "stdout",
          "text": [
            "* \n",
            "* * \n",
            "* * * \n",
            "* * * * \n",
            "* * * * * \n",
            "* * * * * * \n",
            "* * * * * * * \n",
            "* * * * * * * * \n",
            "* * * * * * * * * \n"
          ]
        }
      ],
      "source": [
        "Q1\n",
        "\n",
        "count = 0\n",
        "while count < 9:\n",
        "  count +=1\n",
        "  i = 0\n",
        "  while i < count:\n",
        "    print(\"*\", end = \" \")\n",
        "    i += 1\n",
        "  print()"
      ]
    },
    {
      "cell_type": "code",
      "source": [
        "#q3\n",
        "\n",
        "i=40\n",
        "while i<=400:\n",
        "  if i%3==0:\n",
        "    print(i,end=\" \")\n",
        "  i+=1"
      ],
      "metadata": {
        "colab": {
          "base_uri": "https://localhost:8080/"
        },
        "id": "PS2BoNcL8NFn",
        "outputId": "97b8e8cc-4c0d-42e4-c6de-5844cd8f12b5"
      },
      "execution_count": 1,
      "outputs": [
        {
          "output_type": "stream",
          "name": "stdout",
          "text": [
            "42 45 48 51 54 57 60 63 66 69 72 75 78 81 84 87 90 93 96 99 102 105 108 111 114 117 120 123 126 129 132 135 138 141 144 147 150 153 156 159 162 165 168 171 174 177 180 183 186 189 192 195 198 201 204 207 210 213 216 219 222 225 228 231 234 237 240 243 246 249 252 255 258 261 264 267 270 273 276 279 282 285 288 291 294 297 300 303 306 309 312 315 318 321 324 327 330 333 336 339 342 345 348 351 354 357 360 363 366 369 372 375 378 381 384 387 390 393 396 399 "
          ]
        }
      ]
    },
    {
      "cell_type": "code",
      "source": [
        "l = range(40,400)\n",
        "i =0\n",
        "while i<len(l):\n",
        "  if l[i]%3==0:\n",
        "    print(l[i],end =\" ,\")\n",
        "  i+=1"
      ],
      "metadata": {
        "colab": {
          "base_uri": "https://localhost:8080/"
        },
        "id": "irEt_2jg80mW",
        "outputId": "c75ee979-8fe6-42fe-ef35-51120d2df51b"
      },
      "execution_count": null,
      "outputs": [
        {
          "output_type": "stream",
          "name": "stdout",
          "text": [
            "42 ,45 ,48 ,51 ,54 ,57 ,60 ,63 ,66 ,69 ,72 ,75 ,78 ,81 ,84 ,87 ,90 ,93 ,96 ,99 ,"
          ]
        }
      ]
    },
    {
      "cell_type": "code",
      "source": [
        "#Q5 try to generate even numbers between 1-100\n",
        "for i in range(1,100):\n",
        "  if i%2==0:\n",
        "    print(i, end= \",\")\n"
      ],
      "metadata": {
        "colab": {
          "base_uri": "https://localhost:8080/"
        },
        "id": "eBAIhfAVN9Z3",
        "outputId": "1e38be9f-738c-4e6c-f39d-ad8c0673f9bc"
      },
      "execution_count": 2,
      "outputs": [
        {
          "output_type": "stream",
          "name": "stdout",
          "text": [
            "2,4,6,8,10,12,14,16,18,20,22,24,26,28,30,32,34,36,38,40,42,44,46,48,50,52,54,56,58,60,62,64,66,68,70,72,74,76,78,80,82,84,86,88,90,92,94,96,98,"
          ]
        }
      ]
    },
    {
      "cell_type": "code",
      "source": [
        "#Q5 try to generate even numbers between 1-100 (using while loop)\n",
        "i = 1\n",
        "while i <=100:\n",
        "  if i%2==0:\n",
        "    print(i, end= \",\")\n",
        "  i+=1  "
      ],
      "metadata": {
        "colab": {
          "base_uri": "https://localhost:8080/"
        },
        "id": "r4VKA9_IOZac",
        "outputId": "02c1de25-69de-4617-ddb0-ae48f7d8b334"
      },
      "execution_count": null,
      "outputs": [
        {
          "output_type": "stream",
          "name": "stdout",
          "text": [
            "2,4,6,8,10,12,14,16,18,20,22,24,26,28,30,32,34,36,38,40,42,44,46,48,50,52,54,56,58,60,62,64,66,68,70,72,74,76,78,80,82,84,86,88,90,92,94,96,98,100,"
          ]
        }
      ]
    },
    {
      "cell_type": "code",
      "source": [
        "def fun(number):\n",
        "  i = 1\n",
        "  while i <=number:\n",
        "    if i%2==0:\n",
        "      print(i, end= \",\")\n",
        "    i+=1  \n",
        "\n",
        "fun(1000)\n",
        "fun(2000)"
      ],
      "metadata": {
        "colab": {
          "base_uri": "https://localhost:8080/"
        },
        "id": "eUbfQAUKPPQL",
        "outputId": "b65bd24c-b362-469c-bc4e-2d9be0982959"
      },
      "execution_count": null,
      "outputs": [
        {
          "output_type": "stream",
          "name": "stdout",
          "text": [
            "2,4,6,8,10,12,14,16,18,20,22,24,26,28,30,32,34,36,38,40,42,44,46,48,50,52,54,56,58,60,62,64,66,68,70,72,74,76,78,80,82,84,86,88,90,92,94,96,98,100,102,104,106,108,110,112,114,116,118,120,122,124,126,128,130,132,134,136,138,140,142,144,146,148,150,152,154,156,158,160,162,164,166,168,170,172,174,176,178,180,182,184,186,188,190,192,194,196,198,200,202,204,206,208,210,212,214,216,218,220,222,224,226,228,230,232,234,236,238,240,242,244,246,248,250,252,254,256,258,260,262,264,266,268,270,272,274,276,278,280,282,284,286,288,290,292,294,296,298,300,302,304,306,308,310,312,314,316,318,320,322,324,326,328,330,332,334,336,338,340,342,344,346,348,350,352,354,356,358,360,362,364,366,368,370,372,374,376,378,380,382,384,386,388,390,392,394,396,398,400,402,404,406,408,410,412,414,416,418,420,422,424,426,428,430,432,434,436,438,440,442,444,446,448,450,452,454,456,458,460,462,464,466,468,470,472,474,476,478,480,482,484,486,488,490,492,494,496,498,500,502,504,506,508,510,512,514,516,518,520,522,524,526,528,530,532,534,536,538,540,542,544,546,548,550,552,554,556,558,560,562,564,566,568,570,572,574,576,578,580,582,584,586,588,590,592,594,596,598,600,602,604,606,608,610,612,614,616,618,620,622,624,626,628,630,632,634,636,638,640,642,644,646,648,650,652,654,656,658,660,662,664,666,668,670,672,674,676,678,680,682,684,686,688,690,692,694,696,698,700,702,704,706,708,710,712,714,716,718,720,722,724,726,728,730,732,734,736,738,740,742,744,746,748,750,752,754,756,758,760,762,764,766,768,770,772,774,776,778,780,782,784,786,788,790,792,794,796,798,800,802,804,806,808,810,812,814,816,818,820,822,824,826,828,830,832,834,836,838,840,842,844,846,848,850,852,854,856,858,860,862,864,866,868,870,872,874,876,878,880,882,884,886,888,890,892,894,896,898,900,902,904,906,908,910,912,914,916,918,920,922,924,926,928,930,932,934,936,938,940,942,944,946,948,950,952,954,956,958,960,962,964,966,968,970,972,974,976,978,980,982,984,986,988,990,992,994,996,998,1000,2,4,6,8,10,12,14,16,18,20,22,24,26,28,30,32,34,36,38,40,42,44,46,48,50,52,54,56,58,60,62,64,66,68,70,72,74,76,78,80,82,84,86,88,90,92,94,96,98,100,102,104,106,108,110,112,114,116,118,120,122,124,126,128,130,132,134,136,138,140,142,144,146,148,150,152,154,156,158,160,162,164,166,168,170,172,174,176,178,180,182,184,186,188,190,192,194,196,198,200,202,204,206,208,210,212,214,216,218,220,222,224,226,228,230,232,234,236,238,240,242,244,246,248,250,252,254,256,258,260,262,264,266,268,270,272,274,276,278,280,282,284,286,288,290,292,294,296,298,300,302,304,306,308,310,312,314,316,318,320,322,324,326,328,330,332,334,336,338,340,342,344,346,348,350,352,354,356,358,360,362,364,366,368,370,372,374,376,378,380,382,384,386,388,390,392,394,396,398,400,402,404,406,408,410,412,414,416,418,420,422,424,426,428,430,432,434,436,438,440,442,444,446,448,450,452,454,456,458,460,462,464,466,468,470,472,474,476,478,480,482,484,486,488,490,492,494,496,498,500,502,504,506,508,510,512,514,516,518,520,522,524,526,528,530,532,534,536,538,540,542,544,546,548,550,552,554,556,558,560,562,564,566,568,570,572,574,576,578,580,582,584,586,588,590,592,594,596,598,600,602,604,606,608,610,612,614,616,618,620,622,624,626,628,630,632,634,636,638,640,642,644,646,648,650,652,654,656,658,660,662,664,666,668,670,672,674,676,678,680,682,684,686,688,690,692,694,696,698,700,702,704,706,708,710,712,714,716,718,720,722,724,726,728,730,732,734,736,738,740,742,744,746,748,750,752,754,756,758,760,762,764,766,768,770,772,774,776,778,780,782,784,786,788,790,792,794,796,798,800,802,804,806,808,810,812,814,816,818,820,822,824,826,828,830,832,834,836,838,840,842,844,846,848,850,852,854,856,858,860,862,864,866,868,870,872,874,876,878,880,882,884,886,888,890,892,894,896,898,900,902,904,906,908,910,912,914,916,918,920,922,924,926,928,930,932,934,936,938,940,942,944,946,948,950,952,954,956,958,960,962,964,966,968,970,972,974,976,978,980,982,984,986,988,990,992,994,996,998,1000,1002,1004,1006,1008,1010,1012,1014,1016,1018,1020,1022,1024,1026,1028,1030,1032,1034,1036,1038,1040,1042,1044,1046,1048,1050,1052,1054,1056,1058,1060,1062,1064,1066,1068,1070,1072,1074,1076,1078,1080,1082,1084,1086,1088,1090,1092,1094,1096,1098,1100,1102,1104,1106,1108,1110,1112,1114,1116,1118,1120,1122,1124,1126,1128,1130,1132,1134,1136,1138,1140,1142,1144,1146,1148,1150,1152,1154,1156,1158,1160,1162,1164,1166,1168,1170,1172,1174,1176,1178,1180,1182,1184,1186,1188,1190,1192,1194,1196,1198,1200,1202,1204,1206,1208,1210,1212,1214,1216,1218,1220,1222,1224,1226,1228,1230,1232,1234,1236,1238,1240,1242,1244,1246,1248,1250,1252,1254,1256,1258,1260,1262,1264,1266,1268,1270,1272,1274,1276,1278,1280,1282,1284,1286,1288,1290,1292,1294,1296,1298,1300,1302,1304,1306,1308,1310,1312,1314,1316,1318,1320,1322,1324,1326,1328,1330,1332,1334,1336,1338,1340,1342,1344,1346,1348,1350,1352,1354,1356,1358,1360,1362,1364,1366,1368,1370,1372,1374,1376,1378,1380,1382,1384,1386,1388,1390,1392,1394,1396,1398,1400,1402,1404,1406,1408,1410,1412,1414,1416,1418,1420,1422,1424,1426,1428,1430,1432,1434,1436,1438,1440,1442,1444,1446,1448,1450,1452,1454,1456,1458,1460,1462,1464,1466,1468,1470,1472,1474,1476,1478,1480,1482,1484,1486,1488,1490,1492,1494,1496,1498,1500,1502,1504,1506,1508,1510,1512,1514,1516,1518,1520,1522,1524,1526,1528,1530,1532,1534,1536,1538,1540,1542,1544,1546,1548,1550,1552,1554,1556,1558,1560,1562,1564,1566,1568,1570,1572,1574,1576,1578,1580,1582,1584,1586,1588,1590,1592,1594,1596,1598,1600,1602,1604,1606,1608,1610,1612,1614,1616,1618,1620,1622,1624,1626,1628,1630,1632,1634,1636,1638,1640,1642,1644,1646,1648,1650,1652,1654,1656,1658,1660,1662,1664,1666,1668,1670,1672,1674,1676,1678,1680,1682,1684,1686,1688,1690,1692,1694,1696,1698,1700,1702,1704,1706,1708,1710,1712,1714,1716,1718,1720,1722,1724,1726,1728,1730,1732,1734,1736,1738,1740,1742,1744,1746,1748,1750,1752,1754,1756,1758,1760,1762,1764,1766,1768,1770,1772,1774,1776,1778,1780,1782,1784,1786,1788,1790,1792,1794,1796,1798,1800,1802,1804,1806,1808,1810,1812,1814,1816,1818,1820,1822,1824,1826,1828,1830,1832,1834,1836,1838,1840,1842,1844,1846,1848,1850,1852,1854,1856,1858,1860,1862,1864,1866,1868,1870,1872,1874,1876,1878,1880,1882,1884,1886,1888,1890,1892,1894,1896,1898,1900,1902,1904,1906,1908,1910,1912,1914,1916,1918,1920,1922,1924,1926,1928,1930,1932,1934,1936,1938,1940,1942,1944,1946,1948,1950,1952,1954,1956,1958,1960,1962,1964,1966,1968,1970,1972,1974,1976,1978,1980,1982,1984,1986,1988,1990,1992,1994,1996,1998,2000,"
          ]
        }
      ]
    },
    {
      "cell_type": "code",
      "source": [
        "#collect integers from a List in python\n",
        "List= ['1990', '1980', 'Python', 'version', '3',2000, 2020 ]\n",
        "l1 = []\n",
        "for i in List:\n",
        "  if type(i)==int:\n",
        "    l1.append(i)\n",
        "print(l1)\n"
      ],
      "metadata": {
        "colab": {
          "base_uri": "https://localhost:8080/"
        },
        "id": "Erz_zm30SwLN",
        "outputId": "98599efe-b3a6-4c1c-ee09-f7909efe39e5"
      },
      "execution_count": null,
      "outputs": [
        {
          "output_type": "stream",
          "name": "stdout",
          "text": [
            "[2000, 2020]\n"
          ]
        }
      ]
    },
    {
      "cell_type": "code",
      "source": [
        "#collect integers from a List in python\n",
        "l= ['1990', '1980', 'Python', 'version', '3',2000, 2020 ]\n",
        "i =0\n",
        "while i<len(l):\n",
        "   if type(l[i])==int:\n",
        "     print(i, l[i])\n",
        "   i+=1 "
      ],
      "metadata": {
        "colab": {
          "base_uri": "https://localhost:8080/"
        },
        "id": "vf4mUKJFXETA",
        "outputId": "43ad3f29-c69e-4a00-ec78-7fbf29a715f6"
      },
      "execution_count": null,
      "outputs": [
        {
          "output_type": "stream",
          "name": "stdout",
          "text": [
            "5 2000\n",
            "6 2020\n"
          ]
        }
      ]
    },
    {
      "cell_type": "code",
      "source": [
        "text = \"\"\"Python is a high-level, interpreted, general-purpose programming language. Its design philosophy emphasizes code readability with the use of significant indentation.[32]\n",
        "\n",
        "Python is dynamically-typed and garbage-collected. It supports multiple programming paradigms, including structured (particularly procedural), object-oriented and functional programming. It is often described as a \"batteries included\" language due to its comprehensive standard library.[33][34]\n",
        "\n",
        "Guido van Rossum began working on Python in the late 1980s as a successor to the ABC programming language and first released it in 1991 as Python 0.9.0.[35] Python 2.0 was released in 2000 and introduced new features such as list comprehensions, cycle-detecting garbage collection, reference counting, and Unicode support. Python 3.0, released in 2008, was a major revision that is not completely backward-compatible with earlier versions. Python 2 was discontinued with version 2.7.18 in 2020.[36]\n",
        "\n",
        "Python consistently ranks as one of the most popular programming languagesc\"\"\" \n",
        "vowels = ['a','e','i','o','u']\n",
        "\n",
        "text_list = list(text)\n",
        "l = []\n",
        "i = 0\n",
        "while i < len(text_list):\n",
        "  if (text_list[i] not in vowels):\n",
        "    l.append(text_list[i])\n",
        "  i += 1\n",
        "l = \"\".join(l)\n",
        "print(l)\n"
      ],
      "metadata": {
        "colab": {
          "base_uri": "https://localhost:8080/"
        },
        "id": "bP6Kdn_b-R2-",
        "outputId": "fe7309dc-2f89-4b29-9f69-645dad7eb694"
      },
      "execution_count": 16,
      "outputs": [
        {
          "output_type": "stream",
          "name": "stdout",
          "text": [
            "Pythn s  hgh-lvl, ntrprtd, gnrl-prps prgrmmng lngg. Its dsgn phlsphy mphszs cd rdblty wth th s f sgnfcnt ndnttn.[32]\n",
            "\n",
            "Pythn s dynmclly-typd nd grbg-cllctd. It spprts mltpl prgrmmng prdgms, ncldng strctrd (prtclrly prcdrl), bjct-rntd nd fnctnl prgrmmng. It s ftn dscrbd s  \"bttrs ncldd\" lngg d t ts cmprhnsv stndrd lbrry.[33][34]\n",
            "\n",
            "Gd vn Rssm bgn wrkng n Pythn n th lt 1980s s  sccssr t th ABC prgrmmng lngg nd frst rlsd t n 1991 s Pythn 0.9.0.[35] Pythn 2.0 ws rlsd n 2000 nd ntrdcd nw ftrs sch s lst cmprhnsns, cycl-dtctng grbg cllctn, rfrnc cntng, nd Uncd spprt. Pythn 3.0, rlsd n 2008, ws  mjr rvsn tht s nt cmpltly bckwrd-cmptbl wth rlr vrsns. Pythn 2 ws dscntnd wth vrsn 2.7.18 n 2020.[36]\n",
            "\n",
            "Pythn cnsstntly rnks s n f th mst pplr prgrmmng lnggsc\n"
          ]
        }
      ]
    },
    {
      "cell_type": "code",
      "source": [
        "# q4 : Try to filter out all the vowels form below text by using while loop : \n",
        "text = \"\"\"Python is a high-level, interpreted, general-purpose programming language. Its design philosophy emphasizes code readability with the use of significant indentation.[32]\n",
        "\n",
        "Python is dynamically-typed and garbage-collected. It supports multiple programming paradigms, including structured (particularly procedural), object-oriented and functional programming. It is often described as a \"batteries included\" language due to its comprehensive standard library.[33][34]\n",
        "\n",
        "Guido van Rossum began working on Python in the late 1980s as a successor to the ABC programming language and first released it in 1991 as Python 0.9.0.[35] Python 2.0 was released in 2000 and introduced new features such as list comprehensions, cycle-detecting garbage collection, reference counting, and Unicode support. Python 3.0, released in 2008, was a major revision that is not completely backward-compatible with earlier versions. Python 2 was discontinued with version 2.7.18 in 2020.[36]\n",
        "\n",
        "Python consistently ranks as one of the most popular programming languagesc\"\"\" \n",
        "vowels = ['a','e','i','o','u']\n",
        "text2 = ''\n",
        "for i in text:\n",
        "  if i not in vowels:\n",
        "    text2+=i\n",
        "print(text2)\n",
        "\n",
        "  \n",
        "\n",
        "\n"
      ],
      "metadata": {
        "id": "H5m68wmAaUAw",
        "colab": {
          "base_uri": "https://localhost:8080/"
        },
        "outputId": "c1f35eb7-7447-4b37-fee7-a17b5088f2c1"
      },
      "execution_count": 12,
      "outputs": [
        {
          "output_type": "stream",
          "name": "stdout",
          "text": [
            "Pythn s  hgh-lvl, ntrprtd, gnrl-prps prgrmmng lngg. Its dsgn phlsphy mphszs cd rdblty wth th s f sgnfcnt ndnttn.[32]\n",
            "\n",
            "Pythn s dynmclly-typd nd grbg-cllctd. It spprts mltpl prgrmmng prdgms, ncldng strctrd (prtclrly prcdrl), bjct-rntd nd fnctnl prgrmmng. It s ftn dscrbd s  \"bttrs ncldd\" lngg d t ts cmprhnsv stndrd lbrry.[33][34]\n",
            "\n",
            "Gd vn Rssm bgn wrkng n Pythn n th lt 1980s s  sccssr t th ABC prgrmmng lngg nd frst rlsd t n 1991 s Pythn 0.9.0.[35] Pythn 2.0 ws rlsd n 2000 nd ntrdcd nw ftrs sch s lst cmprhnsns, cycl-dtctng grbg cllctn, rfrnc cntng, nd Uncd spprt. Pythn 3.0, rlsd n 2008, ws  mjr rvsn tht s nt cmpltly bckwrd-cmptbl wth rlr vrsns. Pythn 2 ws dscntnd wth vrsn 2.7.18 n 2020.[36]\n",
            "\n",
            "Pythn cnsstntly rnks s n f th mst pplr prgrmmng lnggsc\n"
          ]
        }
      ]
    },
    {
      "cell_type": "markdown",
      "source": [
        "#q14 : you have to write a fun which will take string and return a len of \n",
        "it without using a inbuilt fun len\n",
        "\n",
        " \n",
        "\n"
      ],
      "metadata": {
        "id": "4FSSG5bSjYex"
      }
    },
    {
      "cell_type": "code",
      "source": [
        "def len_str():\n",
        "  str = input(\"Enter any string: \")\n",
        "  count = 0\n",
        "  for ele in str:\n",
        "    count +=1\n",
        "  return count\n",
        "len_str()\n"
      ],
      "metadata": {
        "colab": {
          "base_uri": "https://localhost:8080/"
        },
        "id": "yZBu98iBDqyG",
        "outputId": "47ed121b-b43a-4409-cec7-5546a2dd8b0c"
      },
      "execution_count": 20,
      "outputs": [
        {
          "name": "stdout",
          "output_type": "stream",
          "text": [
            "Enter any string: very good\n"
          ]
        },
        {
          "output_type": "execute_result",
          "data": {
            "text/plain": [
              "9"
            ]
          },
          "metadata": {},
          "execution_count": 20
        }
      ]
    },
    {
      "cell_type": "code",
      "source": [
        ""
      ],
      "metadata": {
        "id": "qiQnv3wlF6pS"
      },
      "execution_count": null,
      "outputs": []
    }
  ]
}