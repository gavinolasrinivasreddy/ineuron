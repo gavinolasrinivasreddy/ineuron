{
  "nbformat": 4,
  "nbformat_minor": 0,
  "metadata": {
    "colab": {
      "provenance": []
    },
    "kernelspec": {
      "name": "python3",
      "display_name": "Python 3"
    },
    "language_info": {
      "name": "python"
    }
  },
  "cells": [
    {
      "cell_type": "markdown",
      "source": [
        "Create a function that takes a list of non-negative integers and strings and return a new list\n",
        "without the strings.\n",
        "filter_list([1, 2, &quot;a&quot;, &quot;b&quot;]) ➞ [1, 2]\n",
        "filter_list([1, &quot;a&quot;, &quot;b&quot;, 0, 15]) ➞ [1, 0, 15]\n",
        "filter_list([1, 2, &quot;aasf&quot;, &quot;1&quot;, &quot;123&quot;, 123]) ➞ [1, 2, 123]"
      ],
      "metadata": {
        "id": "qfw3Np3OFUT6"
      }
    },
    {
      "cell_type": "code",
      "execution_count": 1,
      "metadata": {
        "id": "6YM4BDaKFKiA"
      },
      "outputs": [],
      "source": [
        "l1 = [1, 2, \"a\", \"b\"]"
      ]
    },
    {
      "cell_type": "code",
      "source": [
        "l2 = [1, 2, \"aasf\", \"1\", \"123\", 123]\n",
        "l3= [1, \"a\", \"b\", 0, 15]"
      ],
      "metadata": {
        "id": "B5eX85_cFhcG"
      },
      "execution_count": 2,
      "outputs": []
    },
    {
      "cell_type": "code",
      "source": [
        "def test(l):\n",
        "  newlist = []\n",
        "  for i in l:\n",
        "    if (type(i)==int):\n",
        "      newlist.append(i)\n",
        "  print(newlist)\n"
      ],
      "metadata": {
        "id": "Be2ou47YFzIx"
      },
      "execution_count": 22,
      "outputs": []
    },
    {
      "cell_type": "code",
      "source": [
        "test(l1)"
      ],
      "metadata": {
        "colab": {
          "base_uri": "https://localhost:8080/"
        },
        "id": "h_4aG49dGQ2h",
        "outputId": "e10137b0-72d8-4ff5-c89e-5359296ec91c"
      },
      "execution_count": 23,
      "outputs": [
        {
          "output_type": "stream",
          "name": "stdout",
          "text": [
            "[1, 2]\n"
          ]
        }
      ]
    },
    {
      "cell_type": "code",
      "source": [
        "test(l2)"
      ],
      "metadata": {
        "colab": {
          "base_uri": "https://localhost:8080/"
        },
        "id": "lbDO-pdNGVL8",
        "outputId": "e902237b-02ec-434a-d88c-d90e52299318"
      },
      "execution_count": 24,
      "outputs": [
        {
          "output_type": "stream",
          "name": "stdout",
          "text": [
            "[1, 2, 123]\n"
          ]
        }
      ]
    },
    {
      "cell_type": "code",
      "source": [
        "test(l3)"
      ],
      "metadata": {
        "colab": {
          "base_uri": "https://localhost:8080/"
        },
        "id": "2QVn0SWDINN1",
        "outputId": "767ffc5c-932f-4051-fe31-7a51e8f2f129"
      },
      "execution_count": 25,
      "outputs": [
        {
          "output_type": "stream",
          "name": "stdout",
          "text": [
            "[1, 0, 15]\n"
          ]
        }
      ]
    },
    {
      "cell_type": "markdown",
      "source": [
        "The &quot;Reverser&quot; takes a string as input and returns that string in reverse order, with the\n",
        "opposite case.\n",
        "reverse(&quot;Hello World&quot;) ➞ &quot;DLROw OLLEh&quot;\n",
        "reverse(&quot;ReVeRsE&quot;) ➞ &quot;eSrEvEr&quot;\n",
        "reverse(&quot;Radar&quot;) ➞ &quot;RADAr&quot;"
      ],
      "metadata": {
        "id": "0_cT6Yh0ImCY"
      }
    },
    {
      "cell_type": "code",
      "source": [
        "s1 =\"Hello World\"\n",
        "s2= \"ReVeRsE\"\n",
        "s3 = \"Radar\"\n"
      ],
      "metadata": {
        "id": "67-WW9sXIP9j"
      },
      "execution_count": 3,
      "outputs": []
    },
    {
      "cell_type": "code",
      "source": [
        "def reverse(s):\n",
        "    str = \"\"\n",
        "    for i in s:\n",
        "      str = i + str # appending chars in reverse order\n",
        "    return str"
      ],
      "metadata": {
        "id": "lSn7hXvnJC6k"
      },
      "execution_count": 11,
      "outputs": []
    },
    {
      "cell_type": "code",
      "source": [
        "reverse(s1)"
      ],
      "metadata": {
        "colab": {
          "base_uri": "https://localhost:8080/",
          "height": 35
        },
        "id": "nwux3zf-KKvb",
        "outputId": "b3e05fc7-6ae2-42cd-f9ef-53359bb35b9c"
      },
      "execution_count": 12,
      "outputs": [
        {
          "output_type": "execute_result",
          "data": {
            "text/plain": [
              "'dlroW olleH'"
            ],
            "application/vnd.google.colaboratory.intrinsic+json": {
              "type": "string"
            }
          },
          "metadata": {},
          "execution_count": 12
        }
      ]
    },
    {
      "cell_type": "code",
      "source": [
        "reverse(s2)"
      ],
      "metadata": {
        "colab": {
          "base_uri": "https://localhost:8080/",
          "height": 35
        },
        "id": "jHbzvdWXKOVH",
        "outputId": "75be5473-107c-4e8b-da56-21da8386cf8d"
      },
      "execution_count": 13,
      "outputs": [
        {
          "output_type": "execute_result",
          "data": {
            "text/plain": [
              "'EsReVeR'"
            ],
            "application/vnd.google.colaboratory.intrinsic+json": {
              "type": "string"
            }
          },
          "metadata": {},
          "execution_count": 13
        }
      ]
    },
    {
      "cell_type": "code",
      "source": [
        "\n",
        "\n",
        "reverse(s3)"
      ],
      "metadata": {
        "colab": {
          "base_uri": "https://localhost:8080/",
          "height": 35
        },
        "id": "iH_2YHdLJ8Tf",
        "outputId": "086b03ff-b287-4871-bdf0-d36462d42577"
      },
      "execution_count": 14,
      "outputs": [
        {
          "output_type": "execute_result",
          "data": {
            "text/plain": [
              "'radaR'"
            ],
            "application/vnd.google.colaboratory.intrinsic+json": {
              "type": "string"
            }
          },
          "metadata": {},
          "execution_count": 14
        }
      ]
    },
    {
      "cell_type": "code",
      "source": [
        "s1[::-1]"
      ],
      "metadata": {
        "colab": {
          "base_uri": "https://localhost:8080/",
          "height": 35
        },
        "id": "0s57L2DoKFfo",
        "outputId": "54375788-b460-494b-e936-b1a47ccdc85c"
      },
      "execution_count": 15,
      "outputs": [
        {
          "output_type": "execute_result",
          "data": {
            "text/plain": [
              "'dlroW olleH'"
            ],
            "application/vnd.google.colaboratory.intrinsic+json": {
              "type": "string"
            }
          },
          "metadata": {},
          "execution_count": 15
        }
      ]
    },
    {
      "cell_type": "markdown",
      "source": [
        "You can assign variables from lists like this:\n",
        "lst = [1, 2, 3, 4, 5, 6]\n",
        "first = lst[0]\n",
        "middle = lst[1:-1]\n",
        "last = lst[-1]\n",
        "print(first) ➞ outputs 1\n",
        "print(middle) ➞ outputs [2, 3, 4, 5]\n",
        "print(last) ➞ outputs 6\n",
        "With Python 3, you can assign variables from lists in a much more succinct way. Create\n",
        "variables first, middle and last from the given list using destructuring assignment\n",
        "(check the Resources tab for some examples), where:\n",
        "first ➞ 1\n",
        "middle ➞ [2, 3, 4, 5]\n",
        "last ➞ 6"
      ],
      "metadata": {
        "id": "8yzOx0dvs9Aw"
      }
    },
    {
      "cell_type": "code",
      "source": [
        "l1 = [1, 2, 3, 4, 5, 6]\n"
      ],
      "metadata": {
        "id": "UhfSjPgZtF2f"
      },
      "execution_count": 18,
      "outputs": []
    },
    {
      "cell_type": "code",
      "source": [
        "def test2(l):\n",
        "  for i in l:\n",
        "   print(f\"frist:{l[0]}, middle:{l[1:-1]},last:{l[-1]}\")"
      ],
      "metadata": {
        "id": "gn4kZjoissq2"
      },
      "execution_count": 22,
      "outputs": []
    },
    {
      "cell_type": "code",
      "source": [
        "test2(l1)"
      ],
      "metadata": {
        "colab": {
          "base_uri": "https://localhost:8080/"
        },
        "id": "r1a-L0s-uBb9",
        "outputId": "445ca2d5-3257-4a19-a220-953ce945cf96"
      },
      "execution_count": 23,
      "outputs": [
        {
          "output_type": "stream",
          "name": "stdout",
          "text": [
            "frist:1, middle:[2, 3, 4, 5],last:6\n",
            "frist:1, middle:[2, 3, 4, 5],last:6\n",
            "frist:1, middle:[2, 3, 4, 5],last:6\n",
            "frist:1, middle:[2, 3, 4, 5],last:6\n",
            "frist:1, middle:[2, 3, 4, 5],last:6\n",
            "frist:1, middle:[2, 3, 4, 5],last:6\n"
          ]
        }
      ]
    },
    {
      "cell_type": "code",
      "source": [
        "def factorial (n):\n",
        "  if n==0:\n",
        "    print(1)\n",
        "  else:\n",
        "   factorial =1\n",
        "   for i in range(1,n+1):\n",
        "    factorial= factorial*i\n",
        "   print(factorial)\n"
      ],
      "metadata": {
        "id": "Szog-rqLuHht"
      },
      "execution_count": 32,
      "outputs": []
    },
    {
      "cell_type": "code",
      "source": [
        "factorial(5)"
      ],
      "metadata": {
        "colab": {
          "base_uri": "https://localhost:8080/"
        },
        "id": "6254SUAYvhJK",
        "outputId": "d3045625-0b6c-4d4e-a77f-2040795f4ffd"
      },
      "execution_count": 33,
      "outputs": [
        {
          "output_type": "stream",
          "name": "stdout",
          "text": [
            "120\n"
          ]
        }
      ]
    },
    {
      "cell_type": "code",
      "source": [
        "factorial(3)"
      ],
      "metadata": {
        "colab": {
          "base_uri": "https://localhost:8080/"
        },
        "id": "mitNA0wNvlFn",
        "outputId": "9bd907bf-b191-480c-b690-21344f5e58b4"
      },
      "execution_count": 34,
      "outputs": [
        {
          "output_type": "stream",
          "name": "stdout",
          "text": [
            "6\n"
          ]
        }
      ]
    },
    {
      "cell_type": "code",
      "source": [
        "factorial(1)"
      ],
      "metadata": {
        "colab": {
          "base_uri": "https://localhost:8080/"
        },
        "id": "vJOHQBDpv0VP",
        "outputId": "98313035-d564-4051-f121-dac15ccae23e"
      },
      "execution_count": 35,
      "outputs": [
        {
          "output_type": "stream",
          "name": "stdout",
          "text": [
            "1\n"
          ]
        }
      ]
    },
    {
      "cell_type": "code",
      "source": [
        "factorial(0)"
      ],
      "metadata": {
        "colab": {
          "base_uri": "https://localhost:8080/"
        },
        "id": "HbZpKWlcv3d0",
        "outputId": "c11e008b-04e6-4374-982a-7a4dd04a9fab"
      },
      "execution_count": 36,
      "outputs": [
        {
          "output_type": "stream",
          "name": "stdout",
          "text": [
            "1\n"
          ]
        }
      ]
    },
    {
      "cell_type": "code",
      "source": [],
      "metadata": {
        "id": "crYREmLIwsk8"
      },
      "execution_count": null,
      "outputs": []
    }
  ]
}