{
  "nbformat": 4,
  "nbformat_minor": 0,
  "metadata": {
    "colab": {
      "name": "Untitled3.ipynb",
      "provenance": []
    },
    "kernelspec": {
      "name": "python3",
      "display_name": "Python 3"
    },
    "language_info": {
      "name": "python"
    }
  },
  "cells": [
    {
      "cell_type": "code",
      "execution_count": null,
      "metadata": {
        "colab": {
          "base_uri": "https://localhost:8080/"
        },
        "id": "L7cHOz4vgYxn",
        "outputId": "d9a516b7-7e97-4986-d247-4e0915c70420"
      },
      "outputs": [
        {
          "output_type": "stream",
          "name": "stdout",
          "text": [
            "how many miles2\n",
            "2 miles is equal to 2.138 km\n"
          ]
        }
      ],
      "source": [
        "#Write a Python program to convert kilometers to miles?\n",
        "# 1 mile is equal to 1.609 km\n",
        "x = int(input(\"how many miles\"))\n",
        "y = x*1.069\n",
        "print(x,\"miles is equal to\" ,y,\"km\")\n"
      ]
    },
    {
      "cell_type": "code",
      "source": [
        "# To convert temperatures in degrees Celsius to Fahrenheit, multiply by 1.8 (or 9/5) and add 32."
      ],
      "metadata": {
        "id": "j9JCZxPDh7pH"
      },
      "execution_count": null,
      "outputs": []
    },
    {
      "cell_type": "code",
      "source": [
        "# Write a Python program to convert Celsius to Fahrenheit?\n",
        "\n",
        "celsius = int(input(\"enter celsius temperature\"))\n",
        "fahrenheit = (celsius*1.8)+32\n",
        "print(fahrenheit)"
      ],
      "metadata": {
        "id": "H5m68wmAaUAw",
        "colab": {
          "base_uri": "https://localhost:8080/"
        },
        "outputId": "d186fc59-0e7a-463d-ace6-ca4daa52d77b"
      },
      "execution_count": null,
      "outputs": [
        {
          "output_type": "stream",
          "name": "stdout",
          "text": [
            "enter celsius temperature-40\n",
            "-40.0\n"
          ]
        }
      ]
    },
    {
      "cell_type": "code",
      "source": [
        "# Write a Python program to display calendar?\n",
        "import calendar\n",
        "yy = 2022\n",
        "mm = 6\n",
        "print(calendar.month(yy,mm))\n"
      ],
      "metadata": {
        "colab": {
          "base_uri": "https://localhost:8080/"
        },
        "id": "XtWsdN8Hj_HX",
        "outputId": "145dd334-2aed-4aea-b17a-23f12288531a"
      },
      "execution_count": null,
      "outputs": [
        {
          "output_type": "stream",
          "name": "stdout",
          "text": [
            "     June 2022\n",
            "Mo Tu We Th Fr Sa Su\n",
            "       1  2  3  4  5\n",
            " 6  7  8  9 10 11 12\n",
            "13 14 15 16 17 18 19\n",
            "20 21 22 23 24 25 26\n",
            "27 28 29 30\n",
            "\n"
          ]
        }
      ]
    },
    {
      "cell_type": "code",
      "source": [
        "x =6\n",
        "y =7\n",
        "x,y =y,x\n",
        "print(x)\n",
        "print(y)"
      ],
      "metadata": {
        "id": "20Q78zAhk6RD",
        "colab": {
          "base_uri": "https://localhost:8080/"
        },
        "outputId": "1831d2ba-dc67-4063-8270-96c8b511c1d9"
      },
      "execution_count": 2,
      "outputs": [
        {
          "output_type": "stream",
          "name": "stdout",
          "text": [
            "7\n",
            "6\n"
          ]
        }
      ]
    },
    {
      "cell_type": "code",
      "source": [
        ""
      ],
      "metadata": {
        "id": "qKr4JyxAieTZ"
      },
      "execution_count": null,
      "outputs": []
    }
  ]
}