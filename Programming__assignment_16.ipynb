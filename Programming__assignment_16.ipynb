{
  "nbformat": 4,
  "nbformat_minor": 0,
  "metadata": {
    "colab": {
      "provenance": []
    },
    "kernelspec": {
      "name": "python3",
      "display_name": "Python 3"
    },
    "language_info": {
      "name": "python"
    }
  },
  "cells": [
    {
      "cell_type": "markdown",
      "source": [
        "Question1. Write a function that stutters a word as if someone is struggling to read it. The\n",
        "first two letters are repeated twice with an ellipsis ... and space after each, and then the\n",
        "word is pronounced with a question mark ?.\n"
      ],
      "metadata": {
        "id": "5R4rTvFNNmd3"
      }
    },
    {
      "cell_type": "code",
      "execution_count": 3,
      "metadata": {
        "id": "zJYrTJsmNcug"
      },
      "outputs": [],
      "source": [
        "def word(str):\n",
        "  #for i in str:\n",
        "    print(f\"{str[:2]}....{str[:2]}...{str}\")"
      ]
    },
    {
      "cell_type": "code",
      "source": [
        "word(\"incredible\")"
      ],
      "metadata": {
        "colab": {
          "base_uri": "https://localhost:8080/"
        },
        "id": "MofQjPcvORks",
        "outputId": "5fc81495-c0f3-46ef-8799-b78967cb4674"
      },
      "execution_count": 4,
      "outputs": [
        {
          "output_type": "stream",
          "name": "stdout",
          "text": [
            "in....in...incredible\n"
          ]
        }
      ]
    },
    {
      "cell_type": "code",
      "source": [
        "word(\"enthusiastic\")"
      ],
      "metadata": {
        "colab": {
          "base_uri": "https://localhost:8080/"
        },
        "id": "t5u1L69pOfMP",
        "outputId": "e8f4675e-bc1d-4c8e-e230-9df5b5a9e0c4"
      },
      "execution_count": 5,
      "outputs": [
        {
          "output_type": "stream",
          "name": "stdout",
          "text": [
            "en....en...enthusiastic\n"
          ]
        }
      ]
    },
    {
      "cell_type": "code",
      "source": [
        "word(\"outstanding\")"
      ],
      "metadata": {
        "colab": {
          "base_uri": "https://localhost:8080/"
        },
        "id": "-VnhUGF0O1R8",
        "outputId": "553896eb-49c1-4fea-bca9-e52b56c86522"
      },
      "execution_count": 6,
      "outputs": [
        {
          "output_type": "stream",
          "name": "stdout",
          "text": [
            "ou....ou...outstanding\n"
          ]
        }
      ]
    },
    {
      "cell_type": "markdown",
      "source": [
        "2.Create a function that takes an angle in radians and returns the corresponding\n",
        "angle in degrees rounded to one decimal place."
      ],
      "metadata": {
        "id": "FapvNxz1Pb0l"
      }
    },
    {
      "cell_type": "code",
      "source": [
        "def radians_degrees(radian):\n",
        "  pi = 3.14\n",
        "  degree = radian * (180/pi)\n",
        "  print(round(degree,1))"
      ],
      "metadata": {
        "id": "NmBUHwbyO7b-"
      },
      "execution_count": 9,
      "outputs": []
    },
    {
      "cell_type": "code",
      "source": [
        "radians_degrees(1)\n",
        "radians_degrees(20)\n",
        "radians_degrees(50)"
      ],
      "metadata": {
        "colab": {
          "base_uri": "https://localhost:8080/"
        },
        "id": "Re9GZEIiPu64",
        "outputId": "746f3426-1788-42f9-fe18-15f790f82030"
      },
      "execution_count": 10,
      "outputs": [
        {
          "output_type": "stream",
          "name": "stdout",
          "text": [
            "57.3\n",
            "1146.5\n",
            "2866.2\n"
          ]
        }
      ]
    },
    {
      "cell_type": "markdown",
      "source": [
        "4.Given the side length x find the area of a hexagon.\n",
        "area_hexagon_with_side = 1\n",
        "area_hexagon_with_side = 2\n",
        "area_hexagon_with_side = 3\n",
        "area =3root3 s**2/(2)"
      ],
      "metadata": {
        "id": "VKClXgMYRCIZ"
      }
    },
    {
      "cell_type": "code",
      "source": [
        "import math \n",
        "def area_hexagon_with_side(n):\n",
        "   area = (3*(math.sqrt(3))*(n**2))/2\n",
        "   area1=(round(area,2))\n",
        "   print(f\"area_hexagon_with_side  n: {area1}\")"
      ],
      "metadata": {
        "id": "1VAvtBu-P3yR"
      },
      "execution_count": 30,
      "outputs": []
    },
    {
      "cell_type": "code",
      "source": [
        "area_hexagon_with_side(1)\n",
        "area_hexagon_with_side(2)\n",
        "area_hexagon_with_side(3)"
      ],
      "metadata": {
        "colab": {
          "base_uri": "https://localhost:8080/"
        },
        "id": "Eq1AAQ6IUAC0",
        "outputId": "4373127c-9872-4a1f-ae4e-b8e6238ae7b7"
      },
      "execution_count": 31,
      "outputs": [
        {
          "output_type": "stream",
          "name": "stdout",
          "text": [
            "area_hexagon_with_side  n: 2.6\n",
            "area_hexagon_with_side  n: 10.39\n",
            "area_hexagon_with_side  n: 23.38\n"
          ]
        }
      ]
    },
    {
      "cell_type": "markdown",
      "source": [
        "5. Create a function that returns a base-2 (binary) representation of a base-10\n",
        "(decimal) string number."
      ],
      "metadata": {
        "id": "plW4UlYEXvGR"
      }
    },
    {
      "cell_type": "code",
      "source": [
        "def DecimalToBinary(num):\n",
        "  print(bin(num)[2:])"
      ],
      "metadata": {
        "id": "Am36cS6CUIJy"
      },
      "execution_count": 32,
      "outputs": []
    },
    {
      "cell_type": "code",
      "source": [
        "DecimalToBinary(10)"
      ],
      "metadata": {
        "colab": {
          "base_uri": "https://localhost:8080/"
        },
        "id": "37U30PGaYFD2",
        "outputId": "c11e2112-99bb-49f7-fa0b-09ef5724af95"
      },
      "execution_count": 33,
      "outputs": [
        {
          "output_type": "stream",
          "name": "stdout",
          "text": [
            "1010\n"
          ]
        }
      ]
    },
    {
      "cell_type": "code",
      "source": [
        "DecimalToBinary(5)"
      ],
      "metadata": {
        "id": "ND0oV2eQYK9-",
        "outputId": "439633ba-1a3c-4e55-8c6d-26b1ad15a5af",
        "colab": {
          "base_uri": "https://localhost:8080/"
        }
      },
      "execution_count": 34,
      "outputs": [
        {
          "output_type": "stream",
          "name": "stdout",
          "text": [
            "101\n"
          ]
        }
      ]
    },
    {
      "cell_type": "code",
      "source": [],
      "metadata": {
        "id": "g5-uFr_JYN6v"
      },
      "execution_count": null,
      "outputs": []
    }
  ]
}