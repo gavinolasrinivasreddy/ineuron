{
  "nbformat": 4,
  "nbformat_minor": 0,
  "metadata": {
    "colab": {
      "name": "Untitled14.ipynb",
      "provenance": []
    },
    "kernelspec": {
      "name": "python3",
      "display_name": "Python 3"
    },
    "language_info": {
      "name": "python"
    }
  },
  "cells": [
    {
      "cell_type": "code",
      "execution_count": null,
      "metadata": {
        "id": "73cJUDorMaxt"
      },
      "outputs": [],
      "source": [
        "1.What are the two values of the Boolean data type? How do you write them?\n",
        "True, False"
      ]
    },
    {
      "cell_type": "markdown",
      "source": [
        "2. What are the three different types of Boolean operators?\n"
      ],
      "metadata": {
        "id": "YfCLcz1OMhD7"
      }
    },
    {
      "cell_type": "markdown",
      "source": [
        "and, or,not(!)"
      ],
      "metadata": {
        "id": "YqeAq0-7M6tY"
      }
    },
    {
      "cell_type": "markdown",
      "source": [
        "3. Make a list of each Boolean operator&#39;s truth tables (i.e. every possible combination of Boolean\n",
        "values for the operator and what it evaluate ).\n"
      ],
      "metadata": {
        "id": "IDcBjCxrMw-6"
      }
    },
    {
      "cell_type": "markdown",
      "source": [
        "and operator True and True =True <br>\n",
        "             True and Flase= False <br>\n",
        "             False and True = False <br>\n",
        "             False and false = False <br>\n",
        "or operator True and True =True <br>\n",
        "             True and Flase= True <br>\n",
        "             False and True = True <br>\n",
        "             False and false = False <br>\n"
      ],
      "metadata": {
        "id": "nsU2nasPM9Jv"
      }
    },
    {
      "cell_type": "markdown",
      "source": [
        "4. 4. What are the values of the following expressions? <br>\n",
        "(5 > 4) and (3 == 5)= False <br>\n",
        "not (5 > 4)= False <br>\n",
        "(5 > 4) or (3 == 5)= True <br>\n",
        "not ((5 > 4) or (3 == 5))=False <br>\n",
        "(True and True) and (True == False)=False <br>\n",
        "(not False) or (not True)=True <br>"
      ],
      "metadata": {
        "id": "a9V5U3I7M08p"
      }
    },
    {
      "cell_type": "markdown",
      "source": [
        "5. What are the six comparison operators?\n",
        "<, >, <=, >=,==, !="
      ],
      "metadata": {
        "id": "7vvbE-9DPKPt"
      }
    },
    {
      "cell_type": "markdown",
      "source": [
        "6. 6. How do you tell the difference between the equal to and assignment operators?Describe a\n",
        "condition and when you would use one."
      ],
      "metadata": {
        "id": "JE4Z-B2DPaEy"
      }
    },
    {
      "cell_type": "markdown",
      "source": [
        "equal to operators == <br>\n",
        "assignment operator = \n"
      ],
      "metadata": {
        "id": "6n27iau9PoRF"
      }
    },
    {
      "cell_type": "markdown",
      "source": [
        ""
      ],
      "metadata": {
        "id": "MvsJoecjP5FV"
      }
    },
    {
      "cell_type": "code",
      "source": [
        "spam = 0\n",
        "if spam ==10:\n",
        "  print(\"eggs\")\n",
        "if spam>5:\n",
        "   print(\"bacon\")\n",
        "else:\n",
        "  print(\"ham\")\n",
        "print(\"ham\")\n",
        "print(\"ham\")\n",
        "\n"
      ],
      "metadata": {
        "id": "PfcPKwlKQVOX"
      },
      "execution_count": null,
      "outputs": []
    },
    {
      "cell_type": "code",
      "source": [
        "spam = 0\n",
        "if spam ==1:\n",
        "  print(\"Hello\")\n",
        "if spam ==2:\n",
        "  print(\"Howdy\")\n",
        "else:\n",
        "  print(\"Greetings\")"
      ],
      "metadata": {
        "id": "q-8PFQ3TRwWG"
      },
      "execution_count": null,
      "outputs": []
    },
    {
      "cell_type": "code",
      "source": [
        "#9.If your programme is stuck in an endless loop, what keys you’ll press? <br>\n",
        "#CTRL + C"
      ],
      "metadata": {
        "id": "8GZih0q-SFBj"
      },
      "execution_count": null,
      "outputs": []
    },
    {
      "cell_type": "markdown",
      "source": [
        ""
      ],
      "metadata": {
        "id": "KlVfdjbGP1sQ"
      }
    },
    {
      "cell_type": "code",
      "source": [
        "#9.If your programme is stuck in an endless loop, what keys you’ll press? <br>\n",
        "#No difference"
      ],
      "metadata": {
        "id": "1eOLrd6ISp92"
      },
      "execution_count": null,
      "outputs": []
    },
    {
      "cell_type": "code",
      "source": [
        "#12. Write a short program that prints the numbers 1 to 10 using a for loop. Then write an equivalent\n",
        "#program that prints the numbers 1 to 10 using a while loop."
      ],
      "metadata": {
        "id": "b-inKgDOSv9r"
      },
      "execution_count": null,
      "outputs": []
    },
    {
      "cell_type": "code",
      "source": [
        "for i in range(11):\n",
        "  print(i, end=\" \")"
      ],
      "metadata": {
        "colab": {
          "base_uri": "https://localhost:8080/"
        },
        "id": "8mxZj0u_S2tz",
        "outputId": "e6f28a63-f395-4eb1-980f-ecdf04edc0c9"
      },
      "execution_count": 2,
      "outputs": [
        {
          "output_type": "stream",
          "name": "stdout",
          "text": [
            "0 1 2 3 4 5 6 7 8 9 10 "
          ]
        }
      ]
    },
    {
      "cell_type": "code",
      "source": [
        "i = 0\n",
        "while i<len(range(11)):\n",
        "  print(i, end =\" \")\n",
        "  i =i+1"
      ],
      "metadata": {
        "colab": {
          "base_uri": "https://localhost:8080/"
        },
        "id": "6kjJ_FkRS_wi",
        "outputId": "402efc97-ed1f-42d9-823f-dd20026ab995"
      },
      "execution_count": 4,
      "outputs": [
        {
          "output_type": "stream",
          "name": "stdout",
          "text": [
            "0 1 2 3 4 5 6 7 8 9 10 "
          ]
        }
      ]
    },
    {
      "cell_type": "code",
      "source": [
        ""
      ],
      "metadata": {
        "id": "2X1Nb0ASTpxn"
      },
      "execution_count": null,
      "outputs": []
    }
  ]
}