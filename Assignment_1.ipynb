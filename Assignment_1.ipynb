{
  "nbformat": 4,
  "nbformat_minor": 0,
  "metadata": {
    "colab": {
      "name": " Assignment_1.ipynb",
      "provenance": []
    },
    "kernelspec": {
      "name": "python3",
      "display_name": "Python 3"
    },
    "language_info": {
      "name": "python"
    }
  },
  "cells": [
    {
      "cell_type": "markdown",
      "source": [
        "1. In the below elements which of them are values or an expression? eg:- values can be\n",
        "integer or string and expressions will be mathematical operators.\n",
        "*\n",
        "&#39;hello&#39;\n",
        "-87.8\n",
        "-\n",
        "/\n",
        "+\n",
        "6"
      ],
      "metadata": {
        "id": "e99-0jpdI9LF"
      }
    },
    {
      "cell_type": "markdown",
      "source": [
        "#* represents expresion (Multiplication) <br>\n",
        "#\"hello\" is value or represents string <br>\n",
        "# -87.8 is float, represents value\n",
        "# - represnts expresion (Substraction)\n",
        "#/ is expresion (devision)\n",
        "# + is expresion (Addition)\n",
        "# 6 is value (int)\n"
      ],
      "metadata": {
        "id": "KOKzywpjJEMC"
      }
    },
    {
      "cell_type": "markdown",
      "source": [
        "\n",
        "2. What is the difference between string and variable?"
      ],
      "metadata": {
        "id": "K3lulccCKrtQ"
      }
    },
    {
      "cell_type": "markdown",
      "source": [
        "# string is immutable, example = \"G S Reddy\" <br>\n",
        "# Variable is identity, we are assigning the value. (ex), Name = \"G S Reddy\""
      ],
      "metadata": {
        "id": "_Bi_Xt2IK6hF"
      }
    },
    {
      "cell_type": "markdown",
      "source": [
        "3. Describe three different data types."
      ],
      "metadata": {
        "id": "VF7KGEeZL-8m"
      }
    },
    {
      "cell_type": "markdown",
      "source": [
        "# Numeric Types: int, float, complex\n",
        "# Sequence Types: list, touple\n",
        "#Mapping Type: dict\n",
        "#Text Type:\tstr"
      ],
      "metadata": {
        "id": "bAx39FLFMFIN"
      }
    },
    {
      "cell_type": "markdown",
      "source": [
        "6. After running the following code, what does the variable bacon contain? <br>\n",
        "bacon = 22 <br>\n",
        "bacon + 1"
      ],
      "metadata": {
        "id": "37HKmGHRM9PJ"
      }
    },
    {
      "cell_type": "markdown",
      "source": [
        "22"
      ],
      "metadata": {
        "id": "X4LH8OaaNIR7"
      }
    },
    {
      "cell_type": "markdown",
      "source": [
        "7. What should the values of the following two terms be? <br>\n",
        "\"spam\"+\"spamspam\" <br>\n",
        "\"spam\"*3\n"
      ],
      "metadata": {
        "id": "e3_6Rb17NNBq"
      }
    },
    {
      "cell_type": "markdown",
      "source": [
        "\"spamspamspam\" <br>\n",
        "\"spamspamspam\"\n"
      ],
      "metadata": {
        "id": "W09U9rJcNh1d"
      }
    },
    {
      "cell_type": "markdown",
      "source": [
        "8. Why is eggs a valid variable name while 100 is invalid?"
      ],
      "metadata": {
        "id": "tw7vCuzXNyZb"
      }
    },
    {
      "cell_type": "markdown",
      "source": [
        "Variable should be a letter (alpha numeric)"
      ],
      "metadata": {
        "id": "_3th3N8GN3DS"
      }
    },
    {
      "cell_type": "markdown",
      "source": [
        "10. Why does this expression cause an error? How can you fix it?\n"
      ],
      "metadata": {
        "id": "pd6vzcseOIg0"
      }
    },
    {
      "cell_type": "markdown",
      "source": [
        "\"I have eaten\"+99+\"burritos.\" <br>\n",
        "99 is not a string, it is int\n",
        "<br>\n",
        "\"I have eaten\"+\"99\"+\"burritos.\" "
      ],
      "metadata": {
        "id": "mnU8jMWlONJ1"
      }
    },
    {
      "cell_type": "markdown",
      "source": [
        "9. What three functions can be used to get the integer, floating-point number, or string version of a value?"
      ],
      "metadata": {
        "id": "9Rd42PfUPldo"
      }
    },
    {
      "cell_type": "markdown",
      "source": [
        "int, float, str"
      ],
      "metadata": {
        "id": "Zd1gssYBPp35"
      }
    },
    {
      "cell_type": "markdown",
      "source": [
        ""
      ],
      "metadata": {
        "id": "EH-dkVe4M_o8"
      }
    },
    {
      "cell_type": "markdown",
      "source": [
        ""
      ],
      "metadata": {
        "id": "L977GIR2I8Ih"
      }
    }
  ]
}