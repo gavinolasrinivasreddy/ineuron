{
  "nbformat": 4,
  "nbformat_minor": 0,
  "metadata": {
    "colab": {
      "name": "Untitled15.ipynb",
      "provenance": []
    },
    "kernelspec": {
      "name": "python3",
      "display_name": "Python 3"
    },
    "language_info": {
      "name": "python"
    }
  },
  "cells": [
    {
      "cell_type": "code",
      "execution_count": 3,
      "metadata": {
        "colab": {
          "base_uri": "https://localhost:8080/"
        },
        "id": "bZUKDXWFltAd",
        "outputId": "cc85c0ca-ce12-4a33-8641-69274236447e"
      },
      "outputs": [
        {
          "output_type": "stream",
          "name": "stdout",
          "text": [
            "Enter the number-5\n",
            "Nagative\n"
          ]
        }
      ],
      "source": [
        "#1 Write a Python Program to Check if a Number is Positive, Negative or Zero?\n",
        "n = int(input(\"Enter the number\"))\n",
        "if n>0:\n",
        "  print(\"positive\")\n",
        "elif n==0:\n",
        "  print(\"Zero\")\n",
        "else:\n",
        "  print(\"Nagative\")"
      ]
    },
    {
      "cell_type": "code",
      "source": [
        "#2 Write a Python Program to Check if a Number is Odd or Even?\n",
        "n = int(input(\"Enter the number\"))\n",
        "if n/2==0:\n",
        "  print(\"even number\")\n",
        "else:\n",
        "  print(\"odd number\")"
      ],
      "metadata": {
        "colab": {
          "base_uri": "https://localhost:8080/"
        },
        "id": "7fgXyDIqmT4y",
        "outputId": "4ac7b23e-4aa8-4f37-a090-87b0987645aa"
      },
      "execution_count": 4,
      "outputs": [
        {
          "output_type": "stream",
          "name": "stdout",
          "text": [
            "Enter the number5\n",
            "odd number\n"
          ]
        }
      ]
    },
    {
      "cell_type": "code",
      "source": [
        "#3 Write a Python Program to Check Leap Year?\n",
        "n = int(input(\"Enter the year\"))\n",
        "if n%4==0:\n",
        "  print(\"leaf year\")\n",
        "else:\n",
        "  print(\"not leaf year\")"
      ],
      "metadata": {
        "colab": {
          "base_uri": "https://localhost:8080/"
        },
        "id": "cbiRHEGknNVB",
        "outputId": "d5b224c1-3a10-459e-9ab2-bf9741e2bcf0"
      },
      "execution_count": 7,
      "outputs": [
        {
          "output_type": "stream",
          "name": "stdout",
          "text": [
            "Enter the year2000\n",
            "leaf year\n"
          ]
        }
      ]
    },
    {
      "cell_type": "code",
      "source": [
        "#4 Write a Python Program to Check Prime Number?\n",
        "n = int(input(\"Enter the number\"))\n",
        "for i in range(2,int((n/2)+1)):\n",
        "  if n%i==0:\n",
        "    print(\"n is not a prime number\")\n",
        "    break\n",
        "else: \n",
        "  print(\"n is a prime number\")\n",
        "\n"
      ],
      "metadata": {
        "colab": {
          "base_uri": "https://localhost:8080/"
        },
        "id": "jX4x1-5YnZyq",
        "outputId": "a13886a5-a71a-478f-cffe-0ea162c7ee6a"
      },
      "execution_count": 10,
      "outputs": [
        {
          "output_type": "stream",
          "name": "stdout",
          "text": [
            "Enter the number11\n",
            "n is a prime number\n"
          ]
        }
      ]
    },
    {
      "cell_type": "code",
      "source": [
        "# Write a Python Program to Print all Prime Numbers in an Interval of 1-10000?\n",
        "for i in range (1,101):\n",
        "  for j in range(2,i):\n",
        "    if i%j==0:\n",
        "     break\n",
        "  else:\n",
        "     print(i, end=\" \")\n",
        "      \n",
        "      \n"
      ],
      "metadata": {
        "colab": {
          "base_uri": "https://localhost:8080/"
        },
        "id": "_6Qpr0U1qdmN",
        "outputId": "4a6ba271-0685-4afd-9719-3c801d6611ec"
      },
      "execution_count": 23,
      "outputs": [
        {
          "output_type": "stream",
          "name": "stdout",
          "text": [
            "1 2 3 5 7 11 13 17 19 23 29 31 37 41 43 47 53 59 61 67 71 73 79 83 89 97 "
          ]
        }
      ]
    },
    {
      "cell_type": "code",
      "source": [
        "0"
      ],
      "metadata": {
        "id": "fTXshaFerIDg"
      },
      "execution_count": null,
      "outputs": []
    }
  ]
}